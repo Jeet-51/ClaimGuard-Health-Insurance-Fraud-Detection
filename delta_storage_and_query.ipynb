{
  "cells": [
    {
      "cell_type": "markdown",
      "id": "79795483-f833-41a9-93a2-31ee9d9c9b3c",
      "metadata": {
        "id": "79795483-f833-41a9-93a2-31ee9d9c9b3c"
      },
      "source": [
        "# 🧠 ClaimGuard: Delta Lake Storage & Querying (Spark + PySpark)\n",
        "\n",
        "This notebook demonstrates how to store, query, and manipulate CMS healthcare data using **Delta Lake format** in PySpark, enabling efficient, versioned, and production-grade data workflows.\n",
        "\n",
        "---\n",
        "\n",
        "## ⚙️ 1. Setup: Spark + Delta Lake in Google Colab\n",
        "Install Java, Apache Spark, Delta Lake, and required Python packages.\n"
      ]
    },
    {
      "cell_type": "code",
      "execution_count": null,
      "id": "8de6db71-de99-45eb-acda-00a8244b44b8",
      "metadata": {
        "id": "8de6db71-de99-45eb-acda-00a8244b44b8"
      },
      "outputs": [],
      "source": [
        "# Install Java, Spark, Delta Lake, and dependencies\n",
        "!apt-get install openjdk-11-jdk-headless -qq > /dev/null\n",
        "!wget -q https://archive.apache.org/dist/spark/spark-3.3.2/spark-3.3.2-bin-hadoop3.tgz\n",
        "!tar -xzf spark-3.3.2-bin-hadoop3.tgz\n",
        "!pip install -q findspark\n",
        "!pip install -q delta-spark\n",
        "\n",
        "# Set environment variables\n",
        "import os\n",
        "os.environ[\"JAVA_HOME\"] = \"/usr/lib/jvm/java-11-openjdk-amd64\"\n",
        "os.environ[\"SPARK_HOME\"] = \"/content/spark-3.3.2-bin-hadoop3\"\n",
        "#Adding PYSPARK_SUBMIT_ARGS to env variables with packages to include\n",
        "os.environ['PYSPARK_SUBMIT_ARGS'] = '--packages io.delta:delta-core_2.12:2.2.0 --conf spark.sql.extensions=io.delta.sql.DeltaSparkSessionExtension --conf spark.sql.catalog.spark_catalog=org.apache.spark.sql.delta.catalog.DeltaCatalog pyspark-shell'\n",
        "\n",
        "\n",
        "# Initialize Spark\n",
        "import findspark\n",
        "findspark.init()\n",
        "\n",
        "from pyspark.sql import SparkSession\n",
        "\n",
        "spark = SparkSession.builder \\\n",
        "    .appName(\"ClaimGuard Delta\") \\\n",
        "    .master(\"local[*]\") \\\n",
        "    .config(\"spark.sql.extensions\", \"io.delta.sql.DeltaSparkSessionExtension\") \\\n",
        "    .config(\"spark.sql.catalog.spark_catalog\", \"org.apache.spark.sql.delta.catalog.DeltaCatalog\") \\\n",
        "    .getOrCreate()\n"
      ]
    },
    {
      "cell_type": "markdown",
      "source": [
        "### 📥 Load and Convert Cleaned Data\n",
        "\n",
        "Read the cleaned CMS dataset from Parquet format and save it in Delta Lake format for scalable storage and downstream querying."
      ],
      "metadata": {
        "id": "j_nVbvGbSfHE"
      },
      "id": "j_nVbvGbSfHE"
    },
    {
      "cell_type": "code",
      "source": [
        "df_spark = spark.read.parquet(\"cleaned_claimguard_data.parquet\")\n",
        "df_spark.show(5)"
      ],
      "metadata": {
        "colab": {
          "base_uri": "https://localhost:8080/"
        },
        "id": "BbgQ2XdV6Fno",
        "outputId": "d8a8682f-2c3a-495a-e9d3-3c461d6b0d5e"
      },
      "id": "BbgQ2XdV6Fno",
      "execution_count": null,
      "outputs": [
        {
          "output_type": "stream",
          "name": "stdout",
          "text": [
            "+------------+-------------------------+-------------------+--------------------+--------------------+--------------------+-------------+---------------------------+-------------------+-------------+------------------+-------------------------+----------------+-------------+-------------------------------+----------+--------------------+--------------------+----------------+-------------------+--------------+------------------------------+------------------------+-------------------------------+-------------------------------+------------------------------------+---------------------+------------------+-----------------+-----------+----------+--------------------------+-------------+----+-----------------------+------------------------+\n",
            "|Provider_NPI|Provider_Last_Or_Org_Name|Provider_First_Name|Provider_Credentials|Provider_Entity_Code|    Provider_Street1|Provider_City|Provider_State_Abbreviation|Provider_State_FIPS|Provider_Zip5|Provider_RUCA_Code|Provider_RUCA_Description|Provider_Country|Provider_Type|Provider_Medicare_Participation|HCPCS_Code|   HCPCS_Description|HCPCS_Drug_Indicator|Place_Of_Service|Total_Beneficiaries|Total_Services|Total_Beneficiary_Day_Services|Average_Submitted_Charge|Average_Medicare_Allowed_Amount|Average_Medicare_Payment_Amount|Average_Medicare_Standardized_Amount|Num_Unique_Procedures|      Mean_Allowed|      Std_Allowed|Max_Allowed|Num_Places|Total_Services_By_Provider|RUCA_Category|Zip3|Charge_to_Allowed_Ratio|Payment_to_Allowed_Ratio|\n",
            "+------------+-------------------------+-------------------+--------------------+--------------------+--------------------+-------------+---------------------------+-------------------+-------------+------------------+-------------------------+----------------+-------------+-------------------------------+----------+--------------------+--------------------+----------------+-------------------+--------------+------------------------------+------------------------+-------------------------------+-------------------------------+------------------------------------+---------------------+------------------+-----------------+-----------+----------+--------------------------+-------------+----+-----------------------+------------------------+\n",
            "|  1003000126|                Enkeshafi|            Ardalan|                7276|                   0|6410 Rockledge Dr...|     Bethesda|                         26|                 24|        20817|               1.0|     Metropolitan area...|              17|           44|                              1|     99217|Hospital observat...|                   0|               0|                 42|          44.0|                            44|            288.93477273|                   76.932045455|                   58.619772727|                        53.307954545|                   11|119.70636803227272|47.75322916380204|212.7837931|         1|                     837.0|            1| 199|     3.7557136751533586|      0.7619681078362526|\n",
            "|  1003000126|                Enkeshafi|            Ardalan|                7276|                   0|6410 Rockledge Dr...|     Bethesda|                         26|                 24|        20817|               1.0|     Metropolitan area...|              17|           44|                              1|     99219|Initial hospital ...|                   0|               0|                 17|          17.0|                            17|            424.80411765|                         144.92|                   109.15529412|                        97.278823529|                   11|119.70636803227272|47.75322916380204|212.7837931|         1|                     837.0|            1| 199|     2.9313006371583885|      0.7532106444099749|\n",
            "|  1003000126|                Enkeshafi|            Ardalan|                7276|                   0|6410 Rockledge Dr...|     Bethesda|                         26|                 24|        20817|               1.0|     Metropolitan area...|              17|           44|                              1|     99220|Initial hospital ...|                   0|               0|                 35|          35.0|                            35|            686.56428571|                   189.99885714|                   151.59685714|                        140.73314286|                   11|119.70636803227272|47.75322916380204|212.7837931|         1|                     837.0|            1| 199|      3.613517785893468|      0.7978829527877994|\n",
            "|  1003000126|                Enkeshafi|            Ardalan|                7276|                   0|6410 Rockledge Dr...|     Bethesda|                         26|                 24|        20817|               1.0|     Metropolitan area...|              17|           44|                              1|     99221|Initial hospital ...|                   0|               0|                 16|          16.0|                            16|               894.99125|                     100.009375|                      79.264375|                           78.499375|                   11|119.70636803227272|47.75322916380204|212.7837931|         1|                     837.0|            1| 199|      8.949072629533719|      0.7925693673648727|\n",
            "|  1003000126|                Enkeshafi|            Ardalan|                7276|                   0|6410 Rockledge Dr...|     Bethesda|                         26|                 24|        20817|               1.0|     Metropolitan area...|              17|           44|                              1|     99222|Initial hospital ...|                   0|               0|                 12|          12.0|                            12|                 511.915|                   144.20166667|                   112.94666667|                        103.72416667|                   11|119.70636803227272|47.75322916380204|212.7837931|         1|                     837.0|            1| 199|      3.549993396897165|      0.7832548780169464|\n",
            "+------------+-------------------------+-------------------+--------------------+--------------------+--------------------+-------------+---------------------------+-------------------+-------------+------------------+-------------------------+----------------+-------------+-------------------------------+----------+--------------------+--------------------+----------------+-------------------+--------------+------------------------------+------------------------+-------------------------------+-------------------------------+------------------------------------+---------------------+------------------+-----------------+-----------+----------+--------------------------+-------------+----+-----------------------+------------------------+\n",
            "only showing top 5 rows\n",
            "\n"
          ]
        }
      ]
    },
    {
      "cell_type": "markdown",
      "source": [
        "### Load and Explore Delta Table\n",
        "\n",
        "Read the saved Delta table and inspect sample rows to ensure data loaded correctly."
      ],
      "metadata": {
        "id": "xEYT4MkUTKCt"
      },
      "id": "xEYT4MkUTKCt"
    },
    {
      "cell_type": "code",
      "source": [
        "delta_path = \"/content/claimguard_delta\"\n",
        "df_spark.write.format(\"delta\").mode(\"overwrite\").save(delta_path)\n",
        "print(\"✅ Saved as Delta at:\", delta_path)"
      ],
      "metadata": {
        "colab": {
          "base_uri": "https://localhost:8080/"
        },
        "id": "M7Bp6PvC6FgZ",
        "outputId": "94bd837c-3029-4f45-df88-f07554f333d6"
      },
      "id": "M7Bp6PvC6FgZ",
      "execution_count": null,
      "outputs": [
        {
          "output_type": "stream",
          "name": "stdout",
          "text": [
            "✅ Saved as Delta at: /content/claimguard_delta\n"
          ]
        }
      ]
    },
    {
      "cell_type": "code",
      "source": [
        "df_delta = spark.read.format(\"delta\").load(delta_path)\n",
        "df_delta.select(\"Provider_Type\", \"Average_Medicare_Allowed_Amount\").show(5)"
      ],
      "metadata": {
        "colab": {
          "base_uri": "https://localhost:8080/"
        },
        "id": "SZYhL4Ge6FYt",
        "outputId": "234dbcad-3030-47bc-b87f-07c6136e33d4"
      },
      "id": "SZYhL4Ge6FYt",
      "execution_count": null,
      "outputs": [
        {
          "output_type": "stream",
          "name": "stdout",
          "text": [
            "+-------------+-------------------------------+\n",
            "|Provider_Type|Average_Medicare_Allowed_Amount|\n",
            "+-------------+-------------------------------+\n",
            "|           62|                   3.4457692308|\n",
            "|           62|                   29.115454545|\n",
            "|           62|                   9.5868965517|\n",
            "|           62|                   16.585263158|\n",
            "|           62|                   7.6710526316|\n",
            "+-------------+-------------------------------+\n",
            "only showing top 5 rows\n",
            "\n"
          ]
        }
      ]
    },
    {
      "cell_type": "markdown",
      "source": [
        "###  Basic Aggregations\n",
        "\n",
        "Run grouped queries to summarize provider behavior by `Provider_Type`, such as average allowed amount and total services."
      ],
      "metadata": {
        "id": "ilt-Fx-gTOav"
      },
      "id": "ilt-Fx-gTOav"
    },
    {
      "cell_type": "code",
      "source": [
        "df_delta.groupBy(\"Provider_Type\").agg(\n",
        "    {\"Average_Medicare_Allowed_Amount\": \"mean\", \"Total_Services\": \"sum\"}\n",
        ").show(10)\n"
      ],
      "metadata": {
        "colab": {
          "base_uri": "https://localhost:8080/"
        },
        "id": "l8J0jHXd-Z-r",
        "outputId": "faae3b51-c36a-4f75-d35b-07a5621439de"
      },
      "id": "l8J0jHXd-Z-r",
      "execution_count": null,
      "outputs": [
        {
          "output_type": "stream",
          "name": "stdout",
          "text": [
            "+-------------+-------------------+------------------------------------+\n",
            "|Provider_Type|sum(Total_Services)|avg(Average_Medicare_Allowed_Amount)|\n",
            "+-------------+-------------------+------------------------------------+\n",
            "|           31|          2038857.5|                  100.67739697534164|\n",
            "|           85|  5335348.600000001|                  105.69917522633529|\n",
            "|           65|5.522865610000001E7|                   172.1520481641235|\n",
            "|           53|       6.53324632E7|                   75.53394038264204|\n",
            "|           78|      1.455997641E8|                   41.45128302260158|\n",
            "|           34|          2603854.6|                  134.65000216499647|\n",
            "|          101|       4.62016059E7|                   133.0504833698309|\n",
            "|           81|       2.73132279E7|                   80.20079915324428|\n",
            "|           28|         1.626272E7|                  137.31836290814545|\n",
            "|           76|       3.71796642E7|                   45.98524676843427|\n",
            "+-------------+-------------------+------------------------------------+\n",
            "only showing top 10 rows\n",
            "\n"
          ]
        }
      ]
    },
    {
      "cell_type": "markdown",
      "source": [
        "### Clean and Overwrite Delta Table\n",
        "\n",
        "Remove rows with `Unknown` provider types and overwrite the Delta table with cleaned data.\n"
      ],
      "metadata": {
        "id": "sUeHB5wb_Lah"
      },
      "id": "sUeHB5wb_Lah"
    },
    {
      "cell_type": "code",
      "source": [
        "df_filtered = df_delta.filter(\"Provider_Type != 'Unknown'\")\n",
        "df_filtered.write.format(\"delta\").mode(\"overwrite\").save(delta_path)"
      ],
      "metadata": {
        "id": "ckbY47IV-Zy4"
      },
      "id": "ckbY47IV-Zy4",
      "execution_count": null,
      "outputs": []
    },
    {
      "cell_type": "code",
      "source": [
        "df_v0 = spark.read.format(\"delta\").option(\"versionAsOf\", 0).load(delta_path)\n",
        "df_v0.show(5)"
      ],
      "metadata": {
        "colab": {
          "base_uri": "https://localhost:8080/"
        },
        "id": "r2Ycy5L_-Zmz",
        "outputId": "8ee76f5a-9daa-41d3-d323-b65867329389"
      },
      "id": "r2Ycy5L_-Zmz",
      "execution_count": null,
      "outputs": [
        {
          "output_type": "stream",
          "name": "stdout",
          "text": [
            "+------------+-------------------------+-------------------+--------------------+--------------------+----------------+-------------+---------------------------+-------------------+-------------+------------------+-------------------------+----------------+-------------+-------------------------------+----------+--------------------+--------------------+----------------+-------------------+--------------+------------------------------+------------------------+-------------------------------+-------------------------------+------------------------------------+---------------------+-----------------+------------------+------------+----------+--------------------------+-------------+----+-----------------------+------------------------+\n",
            "|Provider_NPI|Provider_Last_Or_Org_Name|Provider_First_Name|Provider_Credentials|Provider_Entity_Code|Provider_Street1|Provider_City|Provider_State_Abbreviation|Provider_State_FIPS|Provider_Zip5|Provider_RUCA_Code|Provider_RUCA_Description|Provider_Country|Provider_Type|Provider_Medicare_Participation|HCPCS_Code|   HCPCS_Description|HCPCS_Drug_Indicator|Place_Of_Service|Total_Beneficiaries|Total_Services|Total_Beneficiary_Day_Services|Average_Submitted_Charge|Average_Medicare_Allowed_Amount|Average_Medicare_Payment_Amount|Average_Medicare_Standardized_Amount|Num_Unique_Procedures|     Mean_Allowed|       Std_Allowed| Max_Allowed|Num_Places|Total_Services_By_Provider|RUCA_Category|Zip3|Charge_to_Allowed_Ratio|Payment_to_Allowed_Ratio|\n",
            "+------------+-------------------------+-------------------+--------------------+--------------------+----------------+-------------+---------------------------+-------------------+-------------+------------------+-------------------------+----------------+-------------+-------------------------------+----------+--------------------+--------------------+----------------+-------------------+--------------+------------------------------+------------------------+-------------------------------+-------------------------------+------------------------------------+---------------------+-----------------+------------------+------------+----------+--------------------------+-------------+----+-----------------------+------------------------+\n",
            "|  1427539758|                    Healy|          Christine|               17013|                   0|    52500 Fir Rd|      Granger|                         21|                 18|        46530|               1.0|     Metropolitan area...|              17|           62|                              1|     81002|Urinalysis, manua...|                   0|               1|                 24|          26.0|                            26|            14.153846154|                   3.4457692308|                   3.4457692308|                                3.41|                  424|106.3126595552696|158.65769225862053|1714.2141176|         2|                  320419.0|            1| 445|      4.107589374120735|      0.9999970978988117|\n",
            "|  1427539758|                    Healy|          Christine|               17013|                   0|    52500 Fir Rd|      Granger|                         21|                 18|        46530|               1.0|     Metropolitan area...|              17|           62|                              1|     82306|   Vitamin d-3 level|                   0|               1|                 11|          11.0|                            11|                   106.0|                   29.115454545|                   29.115454545|                               29.01|                  424|106.3126595552696|158.65769225862053|1714.2141176|         2|                  320419.0|            1| 445|     3.6406769274166844|      0.9999996565399125|\n",
            "|  1427539758|                    Healy|          Christine|               17013|                   0|    52500 Fir Rd|      Granger|                         21|                 18|        46530|               1.0|     Metropolitan area...|              17|           62|                              1|     83036|Hemoglobin a1c level|                   0|               1|                 27|          29.0|                            29|             46.24137931|                   9.5868965517|                   9.5868965517|                                9.52|                  424|106.3126595552696|158.65769225862053|1714.2141176|         2|                  320419.0|            1| 445|      4.823388969176949|      0.9999989569106629|\n",
            "|  1427539758|                    Healy|          Christine|               17013|                   0|    52500 Fir Rd|      Granger|                         21|                 18|        46530|               1.0|     Metropolitan area...|              17|           62|                              1|     84443|Blood test, thyro...|                   0|               1|                 19|          19.0|                            19|            66.842105263|                   16.585263158|                   16.585263158|                               16.46|                  424|106.3126595552696|158.65769225862053|1714.2141176|         2|                  320419.0|            1| 445|      4.030208283350361|      0.9999993970554537|\n",
            "|  1427539758|                    Healy|          Christine|               17013|                   0|    52500 Fir Rd|      Granger|                         21|                 18|        46530|               1.0|     Metropolitan area...|              17|           62|                              1|     85025|Complete blood ce...|                   0|               1|                 35|          38.0|                            38|            28.236842105|                   7.6710526316|                   7.6710526316|                                7.61|                  424|106.3126595552696|158.65769225862053|1714.2141176|         2|                  320419.0|            1| 445|      3.680955750339177|      0.9999986963996411|\n",
            "+------------+-------------------------+-------------------+--------------------+--------------------+----------------+-------------+---------------------------+-------------------+-------------+------------------+-------------------------+----------------+-------------+-------------------------------+----------+--------------------+--------------------+----------------+-------------------+--------------+------------------------------+------------------------+-------------------------------+-------------------------------+------------------------------------+---------------------+-----------------+------------------+------------+----------+--------------------------+-------------+----+-----------------------+------------------------+\n",
            "only showing top 5 rows\n",
            "\n"
          ]
        }
      ]
    },
    {
      "cell_type": "markdown",
      "source": [
        "### Update and Delete Rows\n",
        "\n",
        "Use DeltaTable API to:\n",
        "- Update: change provider type from `'Unknown'` to `'Other'`\n",
        "- Delete: remove rows where `Average_Medicare_Payment_Amount = 0`\n"
      ],
      "metadata": {
        "id": "--RZkWQB_rlX"
      },
      "id": "--RZkWQB_rlX"
    },
    {
      "cell_type": "code",
      "source": [
        "from delta.tables import DeltaTable\n",
        "\n",
        "# Load table as DeltaTable object (for update/delete support)\n",
        "delta_tbl = DeltaTable.forPath(spark, delta_path)\n",
        "\n",
        "# Update rows where provider is \"Unknown\"\n",
        "delta_tbl.update(\n",
        "    condition=\"Provider_Type = 'Unknown'\",\n",
        "    set={\"Provider_Type\": \"'Other'\"}\n",
        ")\n"
      ],
      "metadata": {
        "id": "th7FWmzH-ZXg"
      },
      "id": "th7FWmzH-ZXg",
      "execution_count": null,
      "outputs": []
    },
    {
      "cell_type": "code",
      "source": [
        "# Delete rows where Medicare payment amount is zero\n",
        "delta_tbl.delete(\"Average_Medicare_Payment_Amount = 0\")"
      ],
      "metadata": {
        "id": "eRFRS6BI_o03"
      },
      "id": "eRFRS6BI_o03",
      "execution_count": null,
      "outputs": []
    },
    {
      "cell_type": "markdown",
      "source": [
        "This command removes rows from the Delta table. Great for filtering out uninformative or dirty data."
      ],
      "metadata": {
        "id": "ZLJZ6ZK7_7DU"
      },
      "id": "ZLJZ6ZK7_7DU"
    },
    {
      "cell_type": "markdown",
      "source": [
        "### Append New Data\n",
        "\n",
        "Simulate real-world batch ingestion by appending new rows to the Delta table.\n"
      ],
      "metadata": {
        "id": "63ZLzx-n_-Xc"
      },
      "id": "63ZLzx-n_-Xc"
    },
    {
      "cell_type": "code",
      "source": [
        "# Let's say df_new is a new Spark DataFrame you generated\n",
        "df_spark.limit(100).write.format(\"delta\").mode(\"append\").save(delta_path)"
      ],
      "metadata": {
        "id": "IflI26Oq_oth"
      },
      "id": "IflI26Oq_oth",
      "execution_count": null,
      "outputs": []
    },
    {
      "cell_type": "markdown",
      "source": [
        "This adds new rows to the Delta table, creating a new version. Very useful in pipelines that collect data over time."
      ],
      "metadata": {
        "id": "ltAL6WbwAG-C"
      },
      "id": "ltAL6WbwAG-C"
    },
    {
      "cell_type": "markdown",
      "source": [
        "### Schema Evolution (Add New Columns)\n",
        "\n",
        "Add a new derived column to the dataset and overwrite the Delta table using schema evolution to retain flexibility.\n"
      ],
      "metadata": {
        "id": "6bNC41DREE7g"
      },
      "id": "6bNC41DREE7g"
    },
    {
      "cell_type": "code",
      "source": [
        "# Overwrite with a new column added\n",
        "df_new = df_spark.withColumn(\"New_Feature\", df_spark[\"Total_Services\"] * 0.1)\n",
        "\n",
        "df_new.write \\\n",
        "    .format(\"delta\") \\\n",
        "    .mode(\"overwrite\") \\\n",
        "    .option(\"overwriteSchema\", \"true\") \\\n",
        "    .save(delta_path)"
      ],
      "metadata": {
        "id": "ECkwyC89_omw"
      },
      "id": "ECkwyC89_omw",
      "execution_count": null,
      "outputs": []
    },
    {
      "cell_type": "markdown",
      "source": [
        "### Final Summary Queries\n",
        "\n",
        "Analyze the updated Delta table by:\n",
        "- Listing top provider types by frequency\n",
        "- Showing average allowed amounts by provider type\n"
      ],
      "metadata": {
        "id": "xFcCna_3T1mS"
      },
      "id": "xFcCna_3T1mS"
    },
    {
      "cell_type": "code",
      "source": [
        "# Top provider types by frequency\n",
        "df_delta.groupBy(\"Provider_Type\").count().orderBy(\"count\", ascending=False).show(10)\n",
        "\n",
        "# Average billing amount by provider type\n",
        "df_delta.groupBy(\"Provider_Type\").agg({\n",
        "    \"Average_Medicare_Allowed_Amount\": \"mean\"\n",
        "}).orderBy(\"avg(Average_Medicare_Allowed_Amount)\", ascending=False).show(10)\n"
      ],
      "metadata": {
        "colab": {
          "base_uri": "https://localhost:8080/"
        },
        "id": "JZLiNnoIHQrS",
        "outputId": "1f5eac9c-dde9-4c46-853f-691a1a84043e"
      },
      "id": "JZLiNnoIHQrS",
      "execution_count": null,
      "outputs": [
        {
          "output_type": "stream",
          "name": "stdout",
          "text": [
            "+-------------+-------+\n",
            "|Provider_Type|  count|\n",
            "+-------------+-------+\n",
            "|           24|1137764|\n",
            "|           44| 868292|\n",
            "|           62| 851917|\n",
            "|           27| 813473|\n",
            "|           79| 518182|\n",
            "|           11| 385653|\n",
            "|           78| 363800|\n",
            "|           69| 268450|\n",
            "|           65| 225800|\n",
            "|           25| 225054|\n",
            "+-------------+-------+\n",
            "only showing top 10 rows\n",
            "\n",
            "+-------------+------------------------------------+\n",
            "|Provider_Type|avg(Average_Medicare_Allowed_Amount)|\n",
            "+-------------+------------------------------------+\n",
            "|            6|                  1340.2382018495653|\n",
            "|           10|                  438.32553001481483|\n",
            "|            3|                   393.0762001347046|\n",
            "|           97|                  391.60537250813576|\n",
            "|            5|                   364.6944896931984|\n",
            "|           89|                   342.8490343792653|\n",
            "|           22|                  341.76157582184885|\n",
            "|           60|                   316.0292935428091|\n",
            "|          102|                   266.1219179049365|\n",
            "|           56|                  253.53253191197004|\n",
            "+-------------+------------------------------------+\n",
            "only showing top 10 rows\n",
            "\n"
          ]
        }
      ]
    },
    {
      "cell_type": "markdown",
      "source": [
        "##  Conclusion\n",
        "\n",
        "In this notebook, we demonstrated how to process, store, and manage healthcare claims data using **Delta Lake with PySpark**. Here's a quick summary:\n",
        "\n",
        "###  What we did:\n",
        "- Set up Spark and Delta Lake in a scalable, cloud-compatible environment\n",
        "- Converted cleaned CMS data from Parquet to **Delta format**\n",
        "- Ran aggregation queries and explored provider-level billing behavior\n",
        "- Performed **row-level updates**, **deletes**, and **schema evolution**\n",
        "- Simulated **data versioning (time travel)** and **batch appends**\n",
        "\n",
        "###  Why we did it:\n",
        "Traditional formats like CSV or plain Parquet lack the ability to handle updates, rollbacks, and large-scale queries efficiently. Delta Lake adds **transactional capabilities** to your data lake, making it suitable for production-grade pipelines.\n",
        "\n",
        "###  How this helps:\n",
        "Delta format provides:\n",
        "- Fast reads/writes for large healthcare datasets\n",
        "- Auditability via versioning\n",
        "- Cleaner ML workflows with schema evolution and update support\n",
        "\n",
        "###  Project Integration:\n",
        "This Delta table will serve as the **source of truth** for the modeling and monitoring stages in the **ClaimGuard** pipeline — enabling efficient feature extraction, drift detection, and retraining using MLflow and XGBoost.\n",
        "\n",
        ">  **Next step:** Feed this Delta-backed dataset into an ML pipeline for embedding generation, service categorization, and billing prediction.\n",
        "\n"
      ],
      "metadata": {
        "id": "Rga377_WUMXd"
      },
      "id": "Rga377_WUMXd"
    }
  ],
  "metadata": {
    "kernelspec": {
      "display_name": "Python 3 (ipykernel)",
      "language": "python",
      "name": "python3"
    },
    "language_info": {
      "codemirror_mode": {
        "name": "ipython",
        "version": 3
      },
      "file_extension": ".py",
      "mimetype": "text/x-python",
      "name": "python",
      "nbconvert_exporter": "python",
      "pygments_lexer": "ipython3",
      "version": "3.12.4"
    },
    "colab": {
      "provenance": []
    }
  },
  "nbformat": 4,
  "nbformat_minor": 5
}